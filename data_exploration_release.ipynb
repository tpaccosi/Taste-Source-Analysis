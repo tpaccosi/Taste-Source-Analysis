{
 "cells": [
  {
   "cell_type": "markdown",
   "metadata": {},
   "source": [
    "- Content: Taste Sources' exploration -- moving average, co-occurrencies, pmi-based analysis of co-occurrencies, co-occurring taste sources\n",
    "- Author: Teresa Paccosi\n",
    "- Paper: 'Tracing Taste over Time: Automatic Extraction and Diachronic Analysis of Gustatory Language in English' by Teresa Paccosi, and Sara Tonelli"
   ]
  },
  {
   "cell_type": "code",
   "execution_count": 1,
   "metadata": {},
   "outputs": [],
   "source": [
    "import pandas as pd"
   ]
  },
  {
   "cell_type": "code",
   "execution_count": 2,
   "metadata": {},
   "outputs": [],
   "source": [
    "df = pd.read_table('taste_final.tsv')"
   ]
  },
  {
   "cell_type": "markdown",
   "metadata": {},
   "source": [
    "# Moving Average\n",
    "[See the time distribution of a specific Taste Source within the selected dataset. If you want to see the distribution in time of the entire selected dataset, leave the corresponding field empty and click on run]"
   ]
  },
  {
   "cell_type": "code",
   "execution_count": 3,
   "metadata": {},
   "outputs": [],
   "source": [
    "import numpy as np\n",
    "import pandas as pd\n",
    "import matplotlib.pyplot as plt\n",
    "import ipywidgets as widgets\n",
    "from IPython.display import display, clear_output\n",
    "\n",
    "df = pd.read_table('taste_final.tsv')\n",
    "\n",
    "def mobile_average(targets):\n",
    "    window_size = 10  # year window\n",
    "    targets = [x.lower() for x in targets]\n",
    "    \n",
    "    # Fiter the data -- just taste_source\n",
    "    df_target = df.dropna(subset=['Taste_Source_cleaned'])\n",
    "    pat = '|'.join(r\"\\b{}\\b\".format(x) for x in targets)\n",
    "    df_target = df_target[df_target['Taste_Source_cleaned'].str.contains(pat, na=False)]\n",
    "    \n",
    "    # Count occurrences per year\n",
    "    freq_dict = dict()\n",
    "    for y in df_target[\"year\"].dropna().values.tolist():\n",
    "        year_int = int(y) if not pd.isna(y) else None\n",
    "        if year_int is not None:\n",
    "            if year_int not in freq_dict:\n",
    "                freq_dict[year_int] = 0\n",
    "            freq_dict[year_int] += 1\n",
    "    \n",
    "    # moving average\n",
    "    average_dict = dict()\n",
    "    for year in freq_dict:\n",
    "        sum = 0\n",
    "        for y in range(year - window_size, year + window_size + 1):\n",
    "            if y in freq_dict:\n",
    "                sum += freq_dict[y]\n",
    "        average_dict[year] = sum / (2 * window_size + 1)  # Media mobile su finestra di 10 anni\n",
    "    return average_dict\n",
    "\n",
    "def reset_run_mobile_average(name):\n",
    "    clear_output()\n",
    "    run_mobile_average()\n",
    "\n",
    "def run_mobile_average():\n",
    "    def call_mobile_average(name):\n",
    "        source = sources.value\n",
    "        source = source.replace(\" \", \"\")\n",
    "        targets = source.split(\",\") \n",
    "        av_dict = mobile_average(targets)\n",
    "\n",
    "        result = av_dict.items()\n",
    "        data = list(result)\n",
    "        numpyArray = np.array(data)\n",
    "        \n",
    "        if len(numpyArray) != 0:\n",
    "            numpyArray = numpyArray[numpyArray[:, 0].argsort()]\n",
    "            plt.xlim(1700, 2000)  # modify according to your data [time window]\n",
    "            plt.plot(numpyArray[:, 0], numpyArray[:, 1], 'g', linestyle='--')\n",
    "            plt.xlabel('Year')\n",
    "            plt.ylabel('Occurrences')\n",
    "            if sources.value == '':\n",
    "                plt.title('All data')\n",
    "            else:\n",
    "                plt.title(f'Taste Source: {sources.value}')\n",
    "            plt.show()\n",
    "        else:\n",
    "            display()\n",
    "            display('No data found')\n",
    "\n",
    "    sources = widgets.Text(value='', description='Taste Source')\n",
    "    sendButton = widgets.Button(description='Plot')\n",
    "    resetButton = widgets.Button(description='Reset')\n",
    "\n",
    "    sendButton.on_click(call_mobile_average)\n",
    "    resetButton.on_click(reset_run_mobile_average)\n",
    "    \n",
    "    display(sources)\n",
    "    display(sendButton, resetButton)\n"
   ]
  },
  {
   "cell_type": "code",
   "execution_count": 4,
   "metadata": {},
   "outputs": [
    {
     "data": {
      "application/vnd.jupyter.widget-view+json": {
       "model_id": "0ddb8f52a7ac46af9fb30b74b2441956",
       "version_major": 2,
       "version_minor": 0
      },
      "text/plain": [
       "Text(value='', description='Taste Source')"
      ]
     },
     "metadata": {},
     "output_type": "display_data"
    },
    {
     "data": {
      "application/vnd.jupyter.widget-view+json": {
       "model_id": "3c644e543ece467eab6d0aca8b97a685",
       "version_major": 2,
       "version_minor": 0
      },
      "text/plain": [
       "Button(description='Plot', style=ButtonStyle())"
      ]
     },
     "metadata": {},
     "output_type": "display_data"
    },
    {
     "data": {
      "application/vnd.jupyter.widget-view+json": {
       "model_id": "202d75a7d8c440b88ff25af6452e469a",
       "version_major": 2,
       "version_minor": 0
      },
      "text/plain": [
       "Button(description='Reset', style=ButtonStyle())"
      ]
     },
     "metadata": {},
     "output_type": "display_data"
    },
    {
     "data": {
      "image/png": "[encoded data removed]",
      "text/plain": [
       "<Figure size 640x480 with 1 Axes>"
      ]
     },
     "metadata": {},
     "output_type": "display_data"
    }
   ],
   "source": [
    "run_mobile_average()"
   ]
  },
  {
   "cell_type": "markdown",
   "metadata": {},
   "source": [
    "# See Example Sentences\n",
    "[Show the data for a specific Taste Source within the dataset]"
   ]
  },
  {
   "cell_type": "code",
   "execution_count": 5,
   "metadata": {},
   "outputs": [],
   "source": [
    "import pandas as pd\n",
    "import ipywidgets as widgets\n",
    "from IPython.display import clear_output, display\n",
    "\n",
    "def reset_run_extract_examples(name):\n",
    "    clear_output()\n",
    "    run_extract_examples()\n",
    "\n",
    "def run_extract_examples():\n",
    "    def call_extract_taste_sources_instances(name):\n",
    "        source = sources.value\n",
    "        source = source.replace(\" \", \"\")  \n",
    "        targets = source.split(\",\") \n",
    "\n",
    "        df_filtered = df[df['Taste_Source_cleaned'].str.contains('|'.join(targets), case=False, na=False)]\n",
    "        \n",
    "        time_span_start = slider1.value[0]\n",
    "        time_span_end = slider1.value[1]\n",
    "        df_filtered = df_filtered[(df_filtered['year'] >= time_span_start) & (df_filtered['year'] <= time_span_end)]\n",
    "\n",
    "        if len(df_filtered) == 0:\n",
    "            display(\"No data found for the selected taste sources and time span.\")\n",
    "            return\n",
    "        \n",
    "        if name.description == 'Export Tsv':\n",
    "            filename = \"_\".join(targets) + \"_taste_sources_instances.tsv\"\n",
    "            df_filtered.to_csv(filename, sep='\\t', index=False)\n",
    "            display(f\"Data exported to '{filename}'\")\n",
    "        else:\n",
    "            display(df_filtered.head(10)) # it shows the first 10 sentences, you can modify\n",
    "\n",
    "    def add_span(name):\n",
    "        if slider2.layout.visibility == \"hidden\":\n",
    "            slider2.layout.visibility = \"visible\"\n",
    "        else:\n",
    "            slider3.layout.visibility = \"visible\"\n",
    "\n",
    "   \n",
    "    slider1 = widgets.IntRangeSlider(value=[1700, 1800], min=1700, max=2000, step=10, description='Time Span:')\n",
    "    slider2 = widgets.IntRangeSlider(value=[1700, 1800], min=1700, max=2000, step=10, description='Time Span:')\n",
    "    slider3 = widgets.IntRangeSlider(value=[1700, 1800], min=1700, max=2000, step=10, description='Time Span:')\n",
    "    sources = widgets.Text(value='', description='Taste Source')\n",
    "\n",
    "    slider1.layout.visibility = \"visible\"\n",
    "    slider2.layout.visibility = \"hidden\"\n",
    "    slider3.layout.visibility = \"hidden\"\n",
    "\n",
    "    sliderlist = [slider1, slider2, slider3]\n",
    "    addButton = widgets.Button(description='Add time span')\n",
    "    showButton = widgets.Button(description='Show Selection')\n",
    "    sendButton = widgets.Button(description='Export Tsv')\n",
    "    resetButton = widgets.Button(description='Reset')\n",
    "\n",
    "    addButton.on_click(add_span)\n",
    "    sendButton.on_click(call_extract_taste_sources_instances)\n",
    "    showButton.on_click(call_extract_taste_sources_instances)\n",
    "    resetButton.on_click(reset_run_extract_examples)\n",
    "\n",
    "    display(sources)\n",
    "    for w in sliderlist:\n",
    "        display(w)\n",
    "    display(addButton, showButton, sendButton, resetButton)"
   ]
  },
  {
   "cell_type": "code",
   "execution_count": 6,
   "metadata": {},
   "outputs": [
    {
     "data": {
      "application/vnd.jupyter.widget-view+json": {
       "model_id": "f93e392949cc4404860d1781f6d7556c",
       "version_major": 2,
       "version_minor": 0
      },
      "text/plain": [
       "Text(value='', description='Taste Source')"
      ]
     },
     "metadata": {},
     "output_type": "display_data"
    },
    {
     "data": {
      "application/vnd.jupyter.widget-view+json": {
       "model_id": "d0ff48eb768947cb8abb331fab9640db",
       "version_major": 2,
       "version_minor": 0
      },
      "text/plain": [
       "IntRangeSlider(value=(1700, 1800), description='Time Span:', layout=Layout(visibility='visible'), max=2000, mi…"
      ]
     },
     "metadata": {},
     "output_type": "display_data"
    },
    {
     "data": {
      "application/vnd.jupyter.widget-view+json": {
       "model_id": "fbd42394b2b549faba9e3f29f519bec6",
       "version_major": 2,
       "version_minor": 0
      },
      "text/plain": [
       "IntRangeSlider(value=(1700, 1800), description='Time Span:', layout=Layout(visibility='hidden'), max=2000, min…"
      ]
     },
     "metadata": {},
     "output_type": "display_data"
    },
    {
     "data": {
      "application/vnd.jupyter.widget-view+json": {
       "model_id": "e3f594b1322249d89236dcb8f028525c",
       "version_major": 2,
       "version_minor": 0
      },
      "text/plain": [
       "IntRangeSlider(value=(1700, 1800), description='Time Span:', layout=Layout(visibility='hidden'), max=2000, min…"
      ]
     },
     "metadata": {},
     "output_type": "display_data"
    },
    {
     "data": {
      "application/vnd.jupyter.widget-view+json": {
       "model_id": "936b1b0fdebe44479af19808cdc4d76f",
       "version_major": 2,
       "version_minor": 0
      },
      "text/plain": [
       "Button(description='Add time span', style=ButtonStyle())"
      ]
     },
     "metadata": {},
     "output_type": "display_data"
    },
    {
     "data": {
      "application/vnd.jupyter.widget-view+json": {
       "model_id": "c9261a7bedda4bdd89898125a1f56426",
       "version_major": 2,
       "version_minor": 0
      },
      "text/plain": [
       "Button(description='Show Selection', style=ButtonStyle())"
      ]
     },
     "metadata": {},
     "output_type": "display_data"
    },
    {
     "data": {
      "application/vnd.jupyter.widget-view+json": {
       "model_id": "c2214ec760a34165808f50ab62c3e009",
       "version_major": 2,
       "version_minor": 0
      },
      "text/plain": [
       "Button(description='Export Tsv', style=ButtonStyle())"
      ]
     },
     "metadata": {},
     "output_type": "display_data"
    },
    {
     "data": {
      "application/vnd.jupyter.widget-view+json": {
       "model_id": "c609e4e63c9a46e492d9b971b2760d32",
       "version_major": 2,
       "version_minor": 0
      },
      "text/plain": [
       "Button(description='Reset', style=ButtonStyle())"
      ]
     },
     "metadata": {},
     "output_type": "display_data"
    },
    {
     "data": {
      "text/html": [
       "<div>\n",
       "<style scoped>\n",
       "    .dataframe tbody tr th:only-of-type {\n",
       "        vertical-align: middle;\n",
       "    }\n",
       "\n",
       "    .dataframe tbody tr th {\n",
       "        vertical-align: top;\n",
       "    }\n",
       "\n",
       "    .dataframe thead th {\n",
       "        text-align: right;\n",
       "    }\n",
       "</style>\n",
       "<table border=\"1\" class=\"dataframe\">\n",
       "  <thead>\n",
       "    <tr style=\"text-align: right;\">\n",
       "      <th></th>\n",
       "      <th>Book</th>\n",
       "      <th>Taste_Word</th>\n",
       "      <th>Taste_Source</th>\n",
       "      <th>Quality</th>\n",
       "      <th>Taste_Carrier</th>\n",
       "      <th>Evoked_Taste</th>\n",
       "      <th>Location</th>\n",
       "      <th>Taster</th>\n",
       "      <th>Taste_Modifier</th>\n",
       "      <th>Circumstances</th>\n",
       "      <th>Effect</th>\n",
       "      <th>SentenceBefore</th>\n",
       "      <th>Sentence</th>\n",
       "      <th>SentenceAfter</th>\n",
       "      <th>year</th>\n",
       "      <th>Sentence_clean</th>\n",
       "      <th>Taste_Source_cleaned</th>\n",
       "    </tr>\n",
       "  </thead>\n",
       "  <tbody>\n",
       "    <tr>\n",
       "      <th>31350</th>\n",
       "      <td>ob4</td>\n",
       "      <td>drank|drink</td>\n",
       "      <td>his tea|his tea</td>\n",
       "      <td>NaN</td>\n",
       "      <td>NaN</td>\n",
       "      <td>NaN</td>\n",
       "      <td>NaN</td>\n",
       "      <td>he</td>\n",
       "      <td>NaN</td>\n",
       "      <td>NaN</td>\n",
       "      <td>NaN</td>\n",
       "      <td>The prisoner is my son ; he lives with me ; he...</td>\n",
       "      <td>On Saturday he had been at work at Vauxhall - ...</td>\n",
       "      <td>When he had drank his tea I sent him over the ...</td>\n",
       "      <td>1777.0</td>\n",
       "      <td>saturday work vauxhall bridge discharge evenin...</td>\n",
       "      <td>tea|tea</td>\n",
       "    </tr>\n",
       "    <tr>\n",
       "      <th>31351</th>\n",
       "      <td>ob4</td>\n",
       "      <td>drank</td>\n",
       "      <td>his tea</td>\n",
       "      <td>NaN</td>\n",
       "      <td>NaN</td>\n",
       "      <td>NaN</td>\n",
       "      <td>NaN</td>\n",
       "      <td>he</td>\n",
       "      <td>NaN</td>\n",
       "      <td>NaN</td>\n",
       "      <td>NaN</td>\n",
       "      <td>On Saturday he had been at work at Vauxhall - ...</td>\n",
       "      <td>When he had drank his tea I sent him over the ...</td>\n",
       "      <td>Wardour to borrow a basket for me to carry two...</td>\n",
       "      <td>1777.0</td>\n",
       "      <td>drink tea send way mr</td>\n",
       "      <td>tea</td>\n",
       "    </tr>\n",
       "    <tr>\n",
       "      <th>31432</th>\n",
       "      <td>ob12</td>\n",
       "      <td>drank|drink</td>\n",
       "      <td>your tea|any tea</td>\n",
       "      <td>NaN</td>\n",
       "      <td>NaN</td>\n",
       "      <td>NaN</td>\n",
       "      <td>NaN</td>\n",
       "      <td>I</td>\n",
       "      <td>NaN</td>\n",
       "      <td>that afternoon</td>\n",
       "      <td>NaN</td>\n",
       "      <td>Q .</td>\n",
       "      <td>Had you drank your tea that afternoon ? - I ve...</td>\n",
       "      <td>Q .</td>\n",
       "      <td>1795.0</td>\n",
       "      <td>drank tea afternoon seldom drink tea</td>\n",
       "      <td>tea|tea</td>\n",
       "    </tr>\n",
       "    <tr>\n",
       "      <th>31582</th>\n",
       "      <td>ob32</td>\n",
       "      <td>drank|drink</td>\n",
       "      <td>a cup or two of tea|punch</td>\n",
       "      <td>NaN</td>\n",
       "      <td>NaN</td>\n",
       "      <td>NaN</td>\n",
       "      <td>into the prisoner ' s house</td>\n",
       "      <td>I|I</td>\n",
       "      <td>NaN</td>\n",
       "      <td>NaN</td>\n",
       "      <td>NaN</td>\n",
       "      <td>OLLA HANSON sworn .</td>\n",
       "      <td>- On the 18th of August , I went into the pris...</td>\n",
       "      <td>Davies ' s , in New Gravel - lane , I would sp...</td>\n",
       "      <td>1748.0</td>\n",
       "      <td>august go prisoner s house ask baron soup brea...</td>\n",
       "      <td>cup|tea|punch</td>\n",
       "    </tr>\n",
       "    <tr>\n",
       "      <th>31586</th>\n",
       "      <td>ob32</td>\n",
       "      <td>drink|drank|drink</td>\n",
       "      <td>tea|tea</td>\n",
       "      <td>NaN</td>\n",
       "      <td>NaN</td>\n",
       "      <td>NaN</td>\n",
       "      <td>in the room|in the apartment</td>\n",
       "      <td>two friends|the prisoner Gladwell|Gladwell</td>\n",
       "      <td>NaN</td>\n",
       "      <td>the preceding evening</td>\n",
       "      <td>NaN</td>\n",
       "      <td>I reside in the house of Mr .</td>\n",
       "      <td>Alexander Osbaldiston , in New Bond - street ;...</td>\n",
       "      <td>Tolfrey , guided by his advice , I took Yates ...</td>\n",
       "      <td>1748.0</td>\n",
       "      <td>alexander osbaldiston new bond street barriste...</td>\n",
       "      <td>tea|tea</td>\n",
       "    </tr>\n",
       "    <tr>\n",
       "      <th>31587</th>\n",
       "      <td>ob32</td>\n",
       "      <td>drink</td>\n",
       "      <td>tea</td>\n",
       "      <td>NaN</td>\n",
       "      <td>NaN</td>\n",
       "      <td>NaN</td>\n",
       "      <td>NaN</td>\n",
       "      <td>NaN</td>\n",
       "      <td>NaN</td>\n",
       "      <td>NaN</td>\n",
       "      <td>NaN</td>\n",
       "      <td>HENRY WHITE sworn .</td>\n",
       "      <td>- I am a peace - officer for Mary - le - bonne...</td>\n",
       "      <td>Morse ' s ; he said , you know Yates is a very...</td>\n",
       "      <td>1748.0</td>\n",
       "      <td>peace officer mary le bonne parish let furnish...</td>\n",
       "      <td>tea</td>\n",
       "    </tr>\n",
       "    <tr>\n",
       "      <th>31588</th>\n",
       "      <td>ob32</td>\n",
       "      <td>drank</td>\n",
       "      <td>tea</td>\n",
       "      <td>NaN</td>\n",
       "      <td>NaN</td>\n",
       "      <td>NaN</td>\n",
       "      <td>NaN</td>\n",
       "      <td>we</td>\n",
       "      <td>NaN</td>\n",
       "      <td>NaN</td>\n",
       "      <td>NaN</td>\n",
       "      <td>Morse ' s bed - room ; we went into the bed - ...</td>\n",
       "      <td>Morse ' s bason ; he washed his hands , and I ...</td>\n",
       "      <td>You always found him very honest ? - A .</td>\n",
       "      <td>1748.0</td>\n",
       "      <td>morse s bason wash hand wash pot pomatum stand...</td>\n",
       "      <td>tea</td>\n",
       "    </tr>\n",
       "    <tr>\n",
       "      <th>31685</th>\n",
       "      <td>ob45</td>\n",
       "      <td>drank|sweet|sweet|drank</td>\n",
       "      <td>the tea|it</td>\n",
       "      <td>not sweet|sweet</td>\n",
       "      <td>NaN</td>\n",
       "      <td>NaN</td>\n",
       "      <td>NaN</td>\n",
       "      <td>the child|my</td>\n",
       "      <td>NaN</td>\n",
       "      <td>NaN</td>\n",
       "      <td>NaN</td>\n",
       "      <td>Williamson .</td>\n",
       "      <td>My father had saved some tea for my little bro...</td>\n",
       "      <td>Once , when my father ' s back was turned , sh...</td>\n",
       "      <td>1728.0</td>\n",
       "      <td>father save tea little brother drink tea water...</td>\n",
       "      <td>tea</td>\n",
       "    </tr>\n",
       "    <tr>\n",
       "      <th>31694</th>\n",
       "      <td>ob45</td>\n",
       "      <td>partake|drank</td>\n",
       "      <td>tea|of it</td>\n",
       "      <td>NaN</td>\n",
       "      <td>the pot</td>\n",
       "      <td>NaN</td>\n",
       "      <td>NaN</td>\n",
       "      <td>she</td>\n",
       "      <td>NaN</td>\n",
       "      <td>NaN</td>\n",
       "      <td>NaN</td>\n",
       "      <td>Prisoner .</td>\n",
       "      <td>We had some tea , and I left some for my littl...</td>\n",
       "      <td>Cole .</td>\n",
       "      <td>1728.0</td>\n",
       "      <td>tea leave little boy order partake drink fill ...</td>\n",
       "      <td>tea</td>\n",
       "    </tr>\n",
       "    <tr>\n",
       "      <th>31723</th>\n",
       "      <td>ob48</td>\n",
       "      <td>drink</td>\n",
       "      <td>some mint and balm tea</td>\n",
       "      <td>NaN</td>\n",
       "      <td>NaN</td>\n",
       "      <td>NaN</td>\n",
       "      <td>NaN</td>\n",
       "      <td>NaN</td>\n",
       "      <td>NaN</td>\n",
       "      <td>NaN</td>\n",
       "      <td>NaN</td>\n",
       "      <td>She asked me to get her something to drink ; a...</td>\n",
       "      <td>I said I wou ' d make her some mint and balm t...</td>\n",
       "      <td>I said I would get her any thing else .</td>\n",
       "      <td>1773.0</td>\n",
       "      <td>say wou d mint balm tea say drink</td>\n",
       "      <td>mint|balm|tea</td>\n",
       "    </tr>\n",
       "  </tbody>\n",
       "</table>\n",
       "</div>"
      ],
      "text/plain": [
       "       Book               Taste_Word               Taste_Source  \\\n",
       "31350   ob4              drank|drink            his tea|his tea   \n",
       "31351   ob4                    drank                    his tea   \n",
       "31432  ob12              drank|drink           your tea|any tea   \n",
       "31582  ob32              drank|drink  a cup or two of tea|punch   \n",
       "31586  ob32        drink|drank|drink                    tea|tea   \n",
       "31587  ob32                    drink                        tea   \n",
       "31588  ob32                    drank                        tea   \n",
       "31685  ob45  drank|sweet|sweet|drank                 the tea|it   \n",
       "31694  ob45            partake|drank                  tea|of it   \n",
       "31723  ob48                    drink     some mint and balm tea   \n",
       "\n",
       "               Quality Taste_Carrier Evoked_Taste  \\\n",
       "31350              NaN           NaN          NaN   \n",
       "31351              NaN           NaN          NaN   \n",
       "31432              NaN           NaN          NaN   \n",
       "31582              NaN           NaN          NaN   \n",
       "31586              NaN           NaN          NaN   \n",
       "31587              NaN           NaN          NaN   \n",
       "31588              NaN           NaN          NaN   \n",
       "31685  not sweet|sweet           NaN          NaN   \n",
       "31694              NaN       the pot          NaN   \n",
       "31723              NaN           NaN          NaN   \n",
       "\n",
       "                           Location  \\\n",
       "31350                           NaN   \n",
       "31351                           NaN   \n",
       "31432                           NaN   \n",
       "31582   into the prisoner ' s house   \n",
       "31586  in the room|in the apartment   \n",
       "31587                           NaN   \n",
       "31588                           NaN   \n",
       "31685                           NaN   \n",
       "31694                           NaN   \n",
       "31723                           NaN   \n",
       "\n",
       "                                           Taster Taste_Modifier  \\\n",
       "31350                                          he            NaN   \n",
       "31351                                          he            NaN   \n",
       "31432                                           I            NaN   \n",
       "31582                                         I|I            NaN   \n",
       "31586  two friends|the prisoner Gladwell|Gladwell            NaN   \n",
       "31587                                         NaN            NaN   \n",
       "31588                                          we            NaN   \n",
       "31685                                the child|my            NaN   \n",
       "31694                                         she            NaN   \n",
       "31723                                         NaN            NaN   \n",
       "\n",
       "               Circumstances Effect  \\\n",
       "31350                    NaN    NaN   \n",
       "31351                    NaN    NaN   \n",
       "31432         that afternoon    NaN   \n",
       "31582                    NaN    NaN   \n",
       "31586  the preceding evening    NaN   \n",
       "31587                    NaN    NaN   \n",
       "31588                    NaN    NaN   \n",
       "31685                    NaN    NaN   \n",
       "31694                    NaN    NaN   \n",
       "31723                    NaN    NaN   \n",
       "\n",
       "                                          SentenceBefore  \\\n",
       "31350  The prisoner is my son ; he lives with me ; he...   \n",
       "31351  On Saturday he had been at work at Vauxhall - ...   \n",
       "31432                                                Q .   \n",
       "31582                                OLLA HANSON sworn .   \n",
       "31586                      I reside in the house of Mr .   \n",
       "31587                                HENRY WHITE sworn .   \n",
       "31588  Morse ' s bed - room ; we went into the bed - ...   \n",
       "31685                                       Williamson .   \n",
       "31694                                         Prisoner .   \n",
       "31723  She asked me to get her something to drink ; a...   \n",
       "\n",
       "                                                Sentence  \\\n",
       "31350  On Saturday he had been at work at Vauxhall - ...   \n",
       "31351  When he had drank his tea I sent him over the ...   \n",
       "31432  Had you drank your tea that afternoon ? - I ve...   \n",
       "31582  - On the 18th of August , I went into the pris...   \n",
       "31586  Alexander Osbaldiston , in New Bond - street ;...   \n",
       "31587  - I am a peace - officer for Mary - le - bonne...   \n",
       "31588  Morse ' s bason ; he washed his hands , and I ...   \n",
       "31685  My father had saved some tea for my little bro...   \n",
       "31694  We had some tea , and I left some for my littl...   \n",
       "31723  I said I wou ' d make her some mint and balm t...   \n",
       "\n",
       "                                           SentenceAfter    year  \\\n",
       "31350  When he had drank his tea I sent him over the ...  1777.0   \n",
       "31351  Wardour to borrow a basket for me to carry two...  1777.0   \n",
       "31432                                                Q .  1795.0   \n",
       "31582  Davies ' s , in New Gravel - lane , I would sp...  1748.0   \n",
       "31586  Tolfrey , guided by his advice , I took Yates ...  1748.0   \n",
       "31587  Morse ' s ; he said , you know Yates is a very...  1748.0   \n",
       "31588           You always found him very honest ? - A .  1748.0   \n",
       "31685  Once , when my father ' s back was turned , sh...  1728.0   \n",
       "31694                                             Cole .  1728.0   \n",
       "31723            I said I would get her any thing else .  1773.0   \n",
       "\n",
       "                                          Sentence_clean Taste_Source_cleaned  \n",
       "31350  saturday work vauxhall bridge discharge evenin...              tea|tea  \n",
       "31351                              drink tea send way mr                  tea  \n",
       "31432               drank tea afternoon seldom drink tea              tea|tea  \n",
       "31582  august go prisoner s house ask baron soup brea...        cup|tea|punch  \n",
       "31586  alexander osbaldiston new bond street barriste...              tea|tea  \n",
       "31587  peace officer mary le bonne parish let furnish...                  tea  \n",
       "31588  morse s bason wash hand wash pot pomatum stand...                  tea  \n",
       "31685  father save tea little brother drink tea water...                  tea  \n",
       "31694  tea leave little boy order partake drink fill ...                  tea  \n",
       "31723                  say wou d mint balm tea say drink        mint|balm|tea  "
      ]
     },
     "metadata": {},
     "output_type": "display_data"
    }
   ],
   "source": [
    "run_extract_examples()"
   ]
  },
  {
   "cell_type": "markdown",
   "metadata": {},
   "source": [
    "# PMI co-occurrences of Quality and Taste Source\n",
    "\n",
    "[Extract the qualities with the highest PMI scores associated with a target Taste Source]"
   ]
  },
  {
   "cell_type": "code",
   "execution_count": 7,
   "metadata": {},
   "outputs": [],
   "source": [
    "import math\n",
    "import pandas as pd\n",
    "from IPython.display import display, clear_output\n",
    "import ipywidgets as widgets\n",
    "from itertools import islice\n",
    "\n",
    "def pmi_taste_sources(targets, spans, top_n, download):\n",
    "    targets = [x.lower() for x in targets]\n",
    "    \n",
    "    if download:\n",
    "        filename = \"_\".join(targets) + \"-pmi_taste_sources.tsv\"\n",
    "        with open(filename, 'w', encoding='utf-8') as f:\n",
    "            f.write(\"Quality\\tPMI_score\\n\")  # Scrive l'intestazione del file\n",
    "\n",
    "    for span in spans:\n",
    "        lower_limit, upper_limit = span.split(\"-\")\n",
    "\n",
    "        df = pd.read_table('taste_final.tsv')\n",
    "        df_selection = df.loc[(df[\"year\"] >= int(lower_limit)) & (df[\"year\"] <= int(upper_limit))]\n",
    "        df_selection[\"sentencewords\"] = df_selection[\"Sentence_clean\"].apply(lambda n: len(n.split()))\n",
    "        total_words = df_selection['sentencewords'].sum()\n",
    "\n",
    "        freq_quality = count_form_list(df_selection[\"Quality\"].dropna().values.tolist())\n",
    "\n",
    "        df_source = df_selection.dropna(subset=['Taste_Source_cleaned'])\n",
    "        pat = '|'.join(r\"\\b{}\\b\".format(x) for x in targets)\n",
    "        df_source = df_source[df_source['Taste_Source_cleaned'].str.contains(pat)]\n",
    "\n",
    "        freq_target = len(df_source)\n",
    "        \n",
    "        freq_cooc = count_form_list(df_source[\"Quality\"].dropna().values.tolist())\n",
    "\n",
    "        pmiDict = dict()\n",
    "\n",
    "        for quality in freq_cooc:\n",
    "            if freq_cooc[quality] > 5 and len(quality) > 0: \n",
    "                pxy = freq_cooc[quality] / total_words\n",
    "                px = freq_target / total_words\n",
    "                py = freq_quality[quality] / total_words\n",
    "                pmi_value = math.log2(pxy / (px * py)) \n",
    "                pmiDict[quality] = pmi_value\n",
    "\n",
    "        df_pmi = pd.DataFrame(take_top(top_n, pmiDict), columns=['Quality', 'PMI_score'])\n",
    "\n",
    "        if download:\n",
    "            with open(filename, 'a', encoding='utf-8') as f:\n",
    "                for index, row in df_pmi.iterrows():\n",
    "                    f.write(f\"{row['Quality']}\\t{row['PMI_score']}\\n\")\n",
    "        else:\n",
    "            print()\n",
    "            print('----------------------')\n",
    "            print()\n",
    "            print(f'Results for {span} span, and targets {targets}')\n",
    "            display(df_pmi)\n",
    "\n",
    "    # Se si scarica il file TSV\n",
    "    if download:\n",
    "        display(f\"File {filename} has been created and saved.\")\n",
    "\n",
    "\n",
    "def count_form_list(mylist):\n",
    "    freq_dict = dict()\n",
    "    for item in mylist:\n",
    "        for word in item.lower().split(\"|\"):\n",
    "            for w in word.split(\" \"):\n",
    "                if w not in freq_dict:\n",
    "                    freq_dict[w] = 0\n",
    "                freq_dict[w] += 1\n",
    "    return freq_dict\n",
    "\n",
    "def take_top(top_n, myDict):\n",
    "    sorted_pmiDict = sorted(myDict.items(), key=lambda x: x[1], reverse=True)\n",
    "    converted_dict = dict(sorted_pmiDict)\n",
    "    return list(islice(converted_dict.items(), top_n))\n",
    "\n",
    "def run_pmi_taste_sources():\n",
    "    def call_pmi_taste_sources(name):\n",
    "        source = sources.value\n",
    "        source = source.replace(\" \", \"\")  \n",
    "        targets = source.split(\",\") \n",
    "\n",
    "        spans = []\n",
    "        for w in sliderlist:\n",
    "            if w.layout.visibility == \"visible\":\n",
    "                mySpan = str(w.value[0]) + \"-\" + str(w.value[1])\n",
    "                spans.append(mySpan)\n",
    "        \n",
    "        top_n_value = top_n_slider.value\n",
    "\n",
    "        if name.description == 'Export TSV':\n",
    "            pmi_taste_sources(targets, spans, top_n_value, True)\n",
    "        else:\n",
    "            pmi_taste_sources(targets, spans, top_n_value, False)\n",
    "\n",
    "    def add_span(name):\n",
    "        if slider2.layout.visibility == \"hidden\":\n",
    "            slider2.layout.visibility = \"visible\"\n",
    "        else:\n",
    "            slider3.layout.visibility = \"visible\"\n",
    "\n",
    "    style = {'description_width': 'initial'}\n",
    "    \n",
    "\n",
    "    slider1 = widgets.IntRangeSlider(value=[1700, 2000], min=1700, max=2000, step=10, description='Time Span:')\n",
    "    slider2 = widgets.IntRangeSlider(value=[1700, 2000], min=1700, max=2000, step=10, description='Time Span:')\n",
    "    slider3 = widgets.IntRangeSlider(value=[1700, 2000], min=1700, max=2000, step=10, description='Time Span:')\n",
    "    sources = widgets.Text(value='', description='Taste Source')\n",
    "\n",
    "    top_n_slider = widgets.IntSlider(value=10, min=1, max=20, step=1, description='Top N:')\n",
    "\n",
    "    slider1.layout.visibility = \"visible\"\n",
    "    slider2.layout.visibility = \"hidden\"\n",
    "    slider3.layout.visibility = \"hidden\"\n",
    "\n",
    "    sliderlist = [slider1, slider2, slider3]\n",
    "    addButton = widgets.Button(description='Add time span')\n",
    "    showButton = widgets.Button(description='Show Selection')\n",
    "    sendButton = widgets.Button(description='Export TSV')\n",
    "    resetButton = widgets.Button(description='Reset')\n",
    "\n",
    "    addButton.on_click(add_span)\n",
    "    sendButton.on_click(call_pmi_taste_sources)\n",
    "    showButton.on_click(call_pmi_taste_sources)\n",
    "    resetButton.on_click(reset_run_pmi_taste_sources)\n",
    "\n",
    "    display(sources, top_n_slider)\n",
    "    for w in sliderlist:\n",
    "        display(w)\n",
    "    display(addButton, showButton, sendButton, resetButton)\n",
    "\n",
    "def reset_run_pmi_taste_sources(name):\n",
    "    clear_output()\n",
    "    run_pmi_taste_sources()"
   ]
  },
  {
   "cell_type": "code",
   "execution_count": 8,
   "metadata": {},
   "outputs": [
    {
     "data": {
      "application/vnd.jupyter.widget-view+json": {
       "model_id": "06aea3d4cb7c47f6916cd83b2cbfd3e2",
       "version_major": 2,
       "version_minor": 0
      },
      "text/plain": [
       "Text(value='', description='Taste Source')"
      ]
     },
     "metadata": {},
     "output_type": "display_data"
    },
    {
     "data": {
      "application/vnd.jupyter.widget-view+json": {
       "model_id": "9f26b111911645fd8f37bb384bafffa3",
       "version_major": 2,
       "version_minor": 0
      },
      "text/plain": [
       "IntSlider(value=10, description='Top N:', max=20, min=1)"
      ]
     },
     "metadata": {},
     "output_type": "display_data"
    },
    {
     "data": {
      "application/vnd.jupyter.widget-view+json": {
       "model_id": "1256009e95224bbbb044caf8bd1b4dea",
       "version_major": 2,
       "version_minor": 0
      },
      "text/plain": [
       "IntRangeSlider(value=(1700, 2000), description='Time Span:', layout=Layout(visibility='visible'), max=2000, mi…"
      ]
     },
     "metadata": {},
     "output_type": "display_data"
    },
    {
     "data": {
      "application/vnd.jupyter.widget-view+json": {
       "model_id": "620f6ee83d2d49b8a6d65547651e576a",
       "version_major": 2,
       "version_minor": 0
      },
      "text/plain": [
       "IntRangeSlider(value=(1700, 2000), description='Time Span:', layout=Layout(visibility='hidden'), max=2000, min…"
      ]
     },
     "metadata": {},
     "output_type": "display_data"
    },
    {
     "data": {
      "application/vnd.jupyter.widget-view+json": {
       "model_id": "3f1e16bbe7dd4b7785f36f55f23db76e",
       "version_major": 2,
       "version_minor": 0
      },
      "text/plain": [
       "IntRangeSlider(value=(1700, 2000), description='Time Span:', layout=Layout(visibility='hidden'), max=2000, min…"
      ]
     },
     "metadata": {},
     "output_type": "display_data"
    },
    {
     "data": {
      "application/vnd.jupyter.widget-view+json": {
       "model_id": "5d47a00b4c1340409304b8d368bb8de6",
       "version_major": 2,
       "version_minor": 0
      },
      "text/plain": [
       "Button(description='Add time span', style=ButtonStyle())"
      ]
     },
     "metadata": {},
     "output_type": "display_data"
    },
    {
     "data": {
      "application/vnd.jupyter.widget-view+json": {
       "model_id": "93d20dbd677f4ea7be796b8a0146b371",
       "version_major": 2,
       "version_minor": 0
      },
      "text/plain": [
       "Button(description='Show Selection', style=ButtonStyle())"
      ]
     },
     "metadata": {},
     "output_type": "display_data"
    },
    {
     "data": {
      "application/vnd.jupyter.widget-view+json": {
       "model_id": "196ee90760644049a7489b3c07207a20",
       "version_major": 2,
       "version_minor": 0
      },
      "text/plain": [
       "Button(description='Export TSV', style=ButtonStyle())"
      ]
     },
     "metadata": {},
     "output_type": "display_data"
    },
    {
     "data": {
      "application/vnd.jupyter.widget-view+json": {
       "model_id": "d20c7b9af67746078cee78fc11e9684f",
       "version_major": 2,
       "version_minor": 0
      },
      "text/plain": [
       "Button(description='Reset', style=ButtonStyle())"
      ]
     },
     "metadata": {},
     "output_type": "display_data"
    },
    {
     "name": "stdout",
     "output_type": "stream",
     "text": [
      "\n",
      "----------------------\n",
      "\n",
      "Results for 1700-2000 span, and targets ['tea']\n"
     ]
    },
    {
     "name": "stderr",
     "output_type": "stream",
     "text": [
      "/var/folders/j8/2fw1pn3n4zb1y5l8gt8s56dc0000gn/T/ipykernel_66825/1415400609.py:20: SettingWithCopyWarning: \n",
      "A value is trying to be set on a copy of a slice from a DataFrame.\n",
      "Try using .loc[row_indexer,col_indexer] = value instead\n",
      "\n",
      "See the caveats in the documentation: https://pandas.pydata.org/pandas-docs/stable/user_guide/indexing.html#returning-a-view-versus-a-copy\n",
      "  df_selection[\"sentencewords\"] = df_selection[\"Sentence_clean\"].apply(lambda n: len(n.split()))\n"
     ]
    },
    {
     "data": {
      "text/html": [
       "<div>\n",
       "<style scoped>\n",
       "    .dataframe tbody tr th:only-of-type {\n",
       "        vertical-align: middle;\n",
       "    }\n",
       "\n",
       "    .dataframe tbody tr th {\n",
       "        vertical-align: top;\n",
       "    }\n",
       "\n",
       "    .dataframe thead th {\n",
       "        text-align: right;\n",
       "    }\n",
       "</style>\n",
       "<table border=\"1\" class=\"dataframe\">\n",
       "  <thead>\n",
       "    <tr style=\"text-align: right;\">\n",
       "      <th></th>\n",
       "      <th>Quality</th>\n",
       "      <th>PMI_score</th>\n",
       "    </tr>\n",
       "  </thead>\n",
       "  <tbody>\n",
       "    <tr>\n",
       "      <th>0</th>\n",
       "      <td>unsweetened</td>\n",
       "      <td>6.985431</td>\n",
       "    </tr>\n",
       "    <tr>\n",
       "      <th>1</th>\n",
       "      <td>sweetened</td>\n",
       "      <td>6.848250</td>\n",
       "    </tr>\n",
       "    <tr>\n",
       "      <th>2</th>\n",
       "      <td>flavoured</td>\n",
       "      <td>6.766596</td>\n",
       "    </tr>\n",
       "    <tr>\n",
       "      <th>3</th>\n",
       "      <td>delicate</td>\n",
       "      <td>6.082415</td>\n",
       "    </tr>\n",
       "    <tr>\n",
       "      <th>4</th>\n",
       "      <td>flavored</td>\n",
       "      <td>6.032055</td>\n",
       "    </tr>\n",
       "    <tr>\n",
       "      <th>5</th>\n",
       "      <td>unpleasant</td>\n",
       "      <td>5.791951</td>\n",
       "    </tr>\n",
       "    <tr>\n",
       "      <th>6</th>\n",
       "      <td>strong</td>\n",
       "      <td>5.748601</td>\n",
       "    </tr>\n",
       "    <tr>\n",
       "      <th>7</th>\n",
       "      <td>fine</td>\n",
       "      <td>5.546241</td>\n",
       "    </tr>\n",
       "    <tr>\n",
       "      <th>8</th>\n",
       "      <td>tasty</td>\n",
       "      <td>5.390370</td>\n",
       "    </tr>\n",
       "    <tr>\n",
       "      <th>9</th>\n",
       "      <td>delicious</td>\n",
       "      <td>5.369357</td>\n",
       "    </tr>\n",
       "  </tbody>\n",
       "</table>\n",
       "</div>"
      ],
      "text/plain": [
       "       Quality  PMI_score\n",
       "0  unsweetened   6.985431\n",
       "1    sweetened   6.848250\n",
       "2    flavoured   6.766596\n",
       "3     delicate   6.082415\n",
       "4     flavored   6.032055\n",
       "5   unpleasant   5.791951\n",
       "6       strong   5.748601\n",
       "7         fine   5.546241\n",
       "8        tasty   5.390370\n",
       "9    delicious   5.369357"
      ]
     },
     "metadata": {},
     "output_type": "display_data"
    }
   ],
   "source": [
    "run_pmi_taste_sources()"
   ]
  },
  {
   "cell_type": "markdown",
   "metadata": {},
   "source": [
    "# Frequency of co-occurrencies for a target Taste Source"
   ]
  },
  {
   "cell_type": "code",
   "execution_count": 9,
   "metadata": {},
   "outputs": [],
   "source": [
    "def reset_run_extract_taste_sources_cooc_window(name):\n",
    "    clear_output()\n",
    "    run_extract_taste_sources_cooc_window()\n",
    "\n",
    "def run_extract_taste_sources_cooc_window():\n",
    "\n",
    "    def call_extract_taste_sources_cooc_window(name):\n",
    "        source = sources.value\n",
    "        source = source.replace(\" \", \"\")\n",
    "        targets = source.split(\",\")\n",
    "        spans = []\n",
    "        \n",
    "        for w in sliderlist:\n",
    "            if w.layout.visibility == \"visible\":\n",
    "                mySpan = str(w.value[0]) + \"-\" + str(w.value[1])\n",
    "                spans.append(mySpan)\n",
    "\n",
    "        top_n = slidercooc.value  \n",
    "        window_size = sliderwindow.value \n",
    "\n",
    "        if name.description == 'Export TSV':\n",
    "            extract_taste_sources_cooc_window(targets, spans, window_size, top_n, True)\n",
    "        else:\n",
    "            extract_taste_sources_cooc_window(targets, spans, window_size, top_n, False)\n",
    "\n",
    "    def add_span(name):\n",
    "        if slider2.layout.visibility == \"hidden\":\n",
    "            slider2.layout.visibility = \"visible\"\n",
    "        else:\n",
    "            slider3.layout.visibility = \"visible\"\n",
    "\n",
    "    style = {'description_width': 'initial'}\n",
    "    \n",
    "    \n",
    "    slider1 = widgets.IntRangeSlider(value=[1700, 2000], min=1700, max=2000, step=10, description='Time Span:')\n",
    "    slider2 = widgets.IntRangeSlider(value=[1700, 2000], min=1700, max=2000, step=10, description='Time Span:')\n",
    "    slider3 = widgets.IntRangeSlider(value=[1700, 2000], min=1700, max=2000, step=10, description='Time Span:')\n",
    "\n",
    "    \n",
    "    slidercooc = widgets.IntSlider(value=10, min=10, max=300, step=1, description='Number of co-occurrences:', style=style)\n",
    "    \n",
    "    \n",
    "    sliderwindow = widgets.IntSlider(value=3, min=1, max=10, step=1, description='Window size', style=style)\n",
    "\n",
    "    \n",
    "    sources = widgets.Text(value='', description='Taste Source')\n",
    "\n",
    "    slider1.layout.visibility = \"visible\"\n",
    "    slider2.layout.visibility = \"hidden\"\n",
    "    slider3.layout.visibility = \"hidden\"\n",
    "\n",
    "    sliderlist = [slider1, slider2, slider3]\n",
    "    \n",
    "\n",
    "    addButton = widgets.Button(description='Add time span')\n",
    "    showButton = widgets.Button(description='Show Selection')\n",
    "    sendButton = widgets.Button(description='Export TSV')\n",
    "    resetButton = widgets.Button(description='Reset')\n",
    "\n",
    "    addButton.on_click(add_span)\n",
    "    sendButton.on_click(call_extract_taste_sources_cooc_window)\n",
    "    showButton.on_click(call_extract_taste_sources_cooc_window)\n",
    "    resetButton.on_click(reset_run_extract_taste_sources_cooc_window)\n",
    "\n",
    "    display(sources)\n",
    "    for w in sliderlist:\n",
    "        display(w)\n",
    "    display(slidercooc)\n",
    "    display(sliderwindow)\n",
    "    display(addButton, showButton, sendButton, resetButton)\n",
    "\n",
    "def extract_taste_sources_cooc_window(targets, spans, window_size, top_n, download):\n",
    "    targets = [x.lower() for x in targets]\n",
    "    \n",
    "    if download:\n",
    "        filename = \"_\".join(targets) + \"-taste_sources_cooc.tsv\"\n",
    "        with open(filename, 'w') as f:\n",
    "            f.write(\"Taste_Source\\tCo-occurrence\\tFrequency\\n\")\n",
    "    \n",
    "    for span in spans:\n",
    "        lower_limit, upper_limit = span.split(\"-\")\n",
    "        \n",
    "        df =pd.read_table('taste_final.tsv')\n",
    "        df_selection = df.loc[(df[\"year\"] >= int(lower_limit)) & (df[\"year\"] <= int(upper_limit))]\n",
    "\n",
    "        cooc_dict = dict()\n",
    "\n",
    "        for index, row in df_selection.iterrows():\n",
    "            sentence_words = row['Sentence_clean'].split()\n",
    "            for i, word in enumerate(sentence_words):\n",
    "                if word.lower() in targets:  \n",
    "                    window_start = max(i - window_size, 0)\n",
    "                    window_end = min(i + window_size + 1, len(sentence_words))\n",
    "                    context = sentence_words[window_start:i] + sentence_words[i+1:window_end]\n",
    "                    \n",
    "                    for context_word in context:\n",
    "                        if context_word.lower() not in targets:\n",
    "                            if context_word.lower() not in cooc_dict:\n",
    "                                cooc_dict[context_word.lower()] = 0\n",
    "                            cooc_dict[context_word.lower()] += 1\n",
    "\n",
    "        sorted_cooc = sorted(cooc_dict.items(), key=lambda x: x[1], reverse=True)[:top_n]\n",
    "\n",
    "        if download:\n",
    "            with open(filename, 'a') as f:\n",
    "                for word, freq in sorted_cooc:\n",
    "                    f.write(f\"{', '.join(targets)}\\t{word}\\t{freq}\\n\")\n",
    "        else:\n",
    "            print(f\"Co-occurrences for time span {span}:\")\n",
    "            for word, freq in sorted_cooc:\n",
    "                print(f\"{word}: {freq}\")"
   ]
  },
  {
   "cell_type": "code",
   "execution_count": 10,
   "metadata": {},
   "outputs": [
    {
     "data": {
      "application/vnd.jupyter.widget-view+json": {
       "model_id": "07085a2dfb1840e693c0d4a9c4d3e5c7",
       "version_major": 2,
       "version_minor": 0
      },
      "text/plain": [
       "Text(value='', description='Taste Source')"
      ]
     },
     "metadata": {},
     "output_type": "display_data"
    },
    {
     "data": {
      "application/vnd.jupyter.widget-view+json": {
       "model_id": "005f28dc50774977b2ccdf7423f40f07",
       "version_major": 2,
       "version_minor": 0
      },
      "text/plain": [
       "IntRangeSlider(value=(1700, 2000), description='Time Span:', layout=Layout(visibility='visible'), max=2000, mi…"
      ]
     },
     "metadata": {},
     "output_type": "display_data"
    },
    {
     "data": {
      "application/vnd.jupyter.widget-view+json": {
       "model_id": "8e72c60c21744d9aadcd98248fbee01c",
       "version_major": 2,
       "version_minor": 0
      },
      "text/plain": [
       "IntRangeSlider(value=(1700, 2000), description='Time Span:', layout=Layout(visibility='hidden'), max=2000, min…"
      ]
     },
     "metadata": {},
     "output_type": "display_data"
    },
    {
     "data": {
      "application/vnd.jupyter.widget-view+json": {
       "model_id": "ea908fb7ae0a439286ba20e04e964bd9",
       "version_major": 2,
       "version_minor": 0
      },
      "text/plain": [
       "IntRangeSlider(value=(1700, 2000), description='Time Span:', layout=Layout(visibility='hidden'), max=2000, min…"
      ]
     },
     "metadata": {},
     "output_type": "display_data"
    },
    {
     "data": {
      "application/vnd.jupyter.widget-view+json": {
       "model_id": "ccfc19d5b3774b3e87d162dce70b6a92",
       "version_major": 2,
       "version_minor": 0
      },
      "text/plain": [
       "IntSlider(value=10, description='Number of co-occurrences:', max=300, min=10, style=SliderStyle(description_wi…"
      ]
     },
     "metadata": {},
     "output_type": "display_data"
    },
    {
     "data": {
      "application/vnd.jupyter.widget-view+json": {
       "model_id": "c914818c20164869bb0fb1f4e2f3a8ff",
       "version_major": 2,
       "version_minor": 0
      },
      "text/plain": [
       "IntSlider(value=3, description='Window size', max=10, min=1, style=SliderStyle(description_width='initial'))"
      ]
     },
     "metadata": {},
     "output_type": "display_data"
    },
    {
     "data": {
      "application/vnd.jupyter.widget-view+json": {
       "model_id": "989c0d29d9d34d168d04c304bbed97bb",
       "version_major": 2,
       "version_minor": 0
      },
      "text/plain": [
       "Button(description='Add time span', style=ButtonStyle())"
      ]
     },
     "metadata": {},
     "output_type": "display_data"
    },
    {
     "data": {
      "application/vnd.jupyter.widget-view+json": {
       "model_id": "6d48f5d9b3664298a35923042b42e22a",
       "version_major": 2,
       "version_minor": 0
      },
      "text/plain": [
       "Button(description='Show Selection', style=ButtonStyle())"
      ]
     },
     "metadata": {},
     "output_type": "display_data"
    },
    {
     "data": {
      "application/vnd.jupyter.widget-view+json": {
       "model_id": "f24e03e6e97e47fb8ee3687706bba5fc",
       "version_major": 2,
       "version_minor": 0
      },
      "text/plain": [
       "Button(description='Export TSV', style=ButtonStyle())"
      ]
     },
     "metadata": {},
     "output_type": "display_data"
    },
    {
     "data": {
      "application/vnd.jupyter.widget-view+json": {
       "model_id": "92eaf20d6b22454682fb1ca8de63d407",
       "version_major": 2,
       "version_minor": 0
      },
      "text/plain": [
       "Button(description='Reset', style=ButtonStyle())"
      ]
     },
     "metadata": {},
     "output_type": "display_data"
    },
    {
     "name": "stdout",
     "output_type": "stream",
     "text": [
      "Co-occurrences for time span 1700-2000:\n",
      "drink: 1334\n",
      "cup: 280\n",
      "coffee: 208\n",
      "eat: 185\n",
      "sugar: 142\n",
      "come: 130\n",
      "s: 127\n",
      "taste: 125\n",
      "water: 123\n",
      "go: 119\n"
     ]
    }
   ],
   "source": [
    "run_extract_taste_sources_cooc_window()"
   ]
  },
  {
   "cell_type": "markdown",
   "metadata": {},
   "source": [
    "# Taste Sources most frequently co-occurring with another Taste Source"
   ]
  },
  {
   "cell_type": "code",
   "execution_count": 11,
   "metadata": {},
   "outputs": [],
   "source": [
    "def reset_call_pmi_span_taste_sources(name):\n",
    "  clear_output()\n",
    "  run_cooc_taste_sources()\n",
    "\n",
    "def pmi_span_taste_sources (targets, spans, top_n, download):\n",
    "  targets = [x.lower() for x in targets]\n",
    "  if download ==True:\n",
    "    filename = \"_\".join(targets)+\"-pmi.xlsx\"\n",
    "    writer = pd.ExcelWriter(filename, engine = 'xlsxwriter')\n",
    "  for span in spans:\n",
    "\n",
    "    lower_limit,upper_limit = span.split(\"-\")\n",
    "\n",
    "    df = pd.read_table('taste_final.tsv')\n",
    "    df_selection = df.loc[(df[\"year\"] >= int(lower_limit)) & (df[\"year\"] <= int(upper_limit))]\n",
    "    df_selection[\"sentencewords\"] = df_selection[\"Sentence_clean\"].apply(lambda n: len(n.split()))\n",
    "\n",
    "    total_words = df_selection['sentencewords'].sum()\n",
    "    freq_quality = count_form_list(df_selection[\"Taste_Source_cleaned\"].dropna().values.tolist())\n",
    "\n",
    "    df_source = df_selection.dropna(subset=['Taste_Source_cleaned'])\n",
    "    pat = '|'.join(r\"\\b{}\\b\".format(x) for x in targets)\n",
    "    df_source = df_source[df_source['Taste_Source_cleaned'].str.contains(pat)]\n",
    "\n",
    "    freq_target = len(df_source)\n",
    "    freq_cooc = count_form_list(df_source[\"Taste_Source_cleaned\"].dropna().values.tolist())\n",
    "\n",
    "    pmiDict = dict()\n",
    "    for quality in freq_cooc:\n",
    "        if  len(quality)>1:\n",
    "          pmiDict[quality] = freq_cooc[quality]\n",
    "    df_pmi = pd.DataFrame(take_top(top_n, pmiDict), columns =['Taste Source', 'Frequency'])\n",
    "\n",
    "    if download ==True:\n",
    "      df_pmi.to_excel(writer, sheet_name=span, index = False)\n",
    "    else:\n",
    "      print()\n",
    "      print('-------------------------')\n",
    "      print()\n",
    "      print('Results for '+ str(span) +' span, and targets  '+ str(targets))\n",
    "      display(df_pmi)\n",
    "  if download ==True:\n",
    "    writer.close()\n",
    "    files.download(filename)\n",
    "\n",
    "def run_cooc_taste_sources():\n",
    "\n",
    "  def call_pmi_span_taste_sources(name):\n",
    "    source = sources.value\n",
    "    source = source.replace(\" \", \"\")\n",
    "    targets = source.split(\",\")\n",
    "    spans = []\n",
    "    for w in sliderlist:\n",
    "      if w.layout.visibility == \"visible\":\n",
    "\n",
    "        mySpan = str(w.value[0])+\"-\"+str(w.value[1])\n",
    "        spans.append(mySpan)\n",
    "    top_n = slidercooc.value\n",
    "    if name.description =='Export Excel':\n",
    "      pmi_span_taste_sources(targets, spans, top_n,True)\n",
    "    else:\n",
    "      pmi_span_taste_sources(targets, spans, top_n,False)\n",
    "\n",
    "\n",
    "  def read_values(name):\n",
    "    print(slider1.value)\n",
    "    print(slider2.value)\n",
    "    print(slider3.value)\n",
    "    print(sources.value)\n",
    "\n",
    "\n",
    "  def add_span(name):\n",
    "    if slider2.layout.visibility == \"hidden\":\n",
    "      slider2.layout.visibility = \"visible\"\n",
    "    else:\n",
    "      slider3.layout.visibility = \"visible\"\n",
    "\n",
    "\n",
    "\n",
    "  slider1 = widgets.IntRangeSlider(value=[1700, 2000],min=1700,max=2000,step=10,description='Time Span:')\n",
    "  slider2 = widgets.IntRangeSlider(value=[1700, 2000],min=1700,max=2000,step=10,description='Time Span:')\n",
    "  slider3 = widgets.IntRangeSlider(value=[1700, 2000],min=1700,max=2000,step=10,description='Time Span:')\n",
    "\n",
    "  style = {'description_width': 'initial'}\n",
    "  slidercooc = widgets.IntSlider(value=10,min=10,max=300,step=1,description='Number of taste sources:', style=style)\n",
    "\n",
    "  sources = widgets.Text(value='', description='Taste Source')\n",
    "\n",
    "  slider1.layout.visibility = \"visible\"\n",
    "  slider2.layout.visibility = \"hidden\"\n",
    "  slider3.layout.visibility = \"hidden\"\n",
    "\n",
    "  sliderlist = [slider1, slider2, slider3]\n",
    "  addButton = widgets.Button(description='Add time span')\n",
    "  showButton = widgets.Button(description='Show Selection')\n",
    "  sendButton = widgets.Button(description='Export Excel')\n",
    "  resetButton = widgets.Button(description='Reset')\n",
    "\n",
    "  addButton.on_click(add_span)\n",
    "  sendButton.on_click(call_pmi_span_taste_sources)\n",
    "  showButton.on_click(call_pmi_span_taste_sources)\n",
    "  resetButton.on_click(reset_call_pmi_span_taste_sources)\n",
    "\n",
    "  display(sources)\n",
    "  for w in sliderlist:\n",
    "    display(w)\n",
    "  display(slidercooc)\n",
    "  display(addButton,showButton,sendButton,resetButton)"
   ]
  },
  {
   "cell_type": "code",
   "execution_count": 12,
   "metadata": {},
   "outputs": [
    {
     "data": {
      "application/vnd.jupyter.widget-view+json": {
       "model_id": "7aa3db76e0894ee0bd8b5935708fc928",
       "version_major": 2,
       "version_minor": 0
      },
      "text/plain": [
       "Text(value='', description='Taste Source')"
      ]
     },
     "metadata": {},
     "output_type": "display_data"
    },
    {
     "data": {
      "application/vnd.jupyter.widget-view+json": {
       "model_id": "0e6087d1c6224906bb6b6eb42601b741",
       "version_major": 2,
       "version_minor": 0
      },
      "text/plain": [
       "IntRangeSlider(value=(1700, 2000), description='Time Span:', layout=Layout(visibility='visible'), max=2000, mi…"
      ]
     },
     "metadata": {},
     "output_type": "display_data"
    },
    {
     "data": {
      "application/vnd.jupyter.widget-view+json": {
       "model_id": "60a7dafad26946f0b4714f01f7578172",
       "version_major": 2,
       "version_minor": 0
      },
      "text/plain": [
       "IntRangeSlider(value=(1700, 2000), description='Time Span:', layout=Layout(visibility='hidden'), max=2000, min…"
      ]
     },
     "metadata": {},
     "output_type": "display_data"
    },
    {
     "data": {
      "application/vnd.jupyter.widget-view+json": {
       "model_id": "ba0a9ef559334c8cb8a573cab2ee94c0",
       "version_major": 2,
       "version_minor": 0
      },
      "text/plain": [
       "IntRangeSlider(value=(1700, 2000), description='Time Span:', layout=Layout(visibility='hidden'), max=2000, min…"
      ]
     },
     "metadata": {},
     "output_type": "display_data"
    },
    {
     "data": {
      "application/vnd.jupyter.widget-view+json": {
       "model_id": "6108e8b6357349f78eec41cd2dc9a89c",
       "version_major": 2,
       "version_minor": 0
      },
      "text/plain": [
       "IntSlider(value=10, description='Number of taste sources:', max=300, min=10, style=SliderStyle(description_wid…"
      ]
     },
     "metadata": {},
     "output_type": "display_data"
    },
    {
     "data": {
      "application/vnd.jupyter.widget-view+json": {
       "model_id": "b48f5e4028984725932b163ada98e9da",
       "version_major": 2,
       "version_minor": 0
      },
      "text/plain": [
       "Button(description='Add time span', style=ButtonStyle())"
      ]
     },
     "metadata": {},
     "output_type": "display_data"
    },
    {
     "data": {
      "application/vnd.jupyter.widget-view+json": {
       "model_id": "a18a3467c1a647d48467cbbcc86f2ccd",
       "version_major": 2,
       "version_minor": 0
      },
      "text/plain": [
       "Button(description='Show Selection', style=ButtonStyle())"
      ]
     },
     "metadata": {},
     "output_type": "display_data"
    },
    {
     "data": {
      "application/vnd.jupyter.widget-view+json": {
       "model_id": "f1aafedd4219459aa52c7863850f507f",
       "version_major": 2,
       "version_minor": 0
      },
      "text/plain": [
       "Button(description='Export Excel', style=ButtonStyle())"
      ]
     },
     "metadata": {},
     "output_type": "display_data"
    },
    {
     "data": {
      "application/vnd.jupyter.widget-view+json": {
       "model_id": "e1c13558a5944dfa98388af2d032d135",
       "version_major": 2,
       "version_minor": 0
      },
      "text/plain": [
       "Button(description='Reset', style=ButtonStyle())"
      ]
     },
     "metadata": {},
     "output_type": "display_data"
    },
    {
     "name": "stdout",
     "output_type": "stream",
     "text": [
      "\n",
      "-------------------------\n",
      "\n",
      "Results for 1700-2000 span, and targets  ['tea']\n"
     ]
    },
    {
     "name": "stderr",
     "output_type": "stream",
     "text": [
      "/var/folders/j8/2fw1pn3n4zb1y5l8gt8s56dc0000gn/T/ipykernel_66825/1058471424.py:16: SettingWithCopyWarning: \n",
      "A value is trying to be set on a copy of a slice from a DataFrame.\n",
      "Try using .loc[row_indexer,col_indexer] = value instead\n",
      "\n",
      "See the caveats in the documentation: https://pandas.pydata.org/pandas-docs/stable/user_guide/indexing.html#returning-a-view-versus-a-copy\n",
      "  df_selection[\"sentencewords\"] = df_selection[\"Sentence_clean\"].apply(lambda n: len(n.split()))\n"
     ]
    },
    {
     "data": {
      "text/html": [
       "<div>\n",
       "<style scoped>\n",
       "    .dataframe tbody tr th:only-of-type {\n",
       "        vertical-align: middle;\n",
       "    }\n",
       "\n",
       "    .dataframe tbody tr th {\n",
       "        vertical-align: top;\n",
       "    }\n",
       "\n",
       "    .dataframe thead th {\n",
       "        text-align: right;\n",
       "    }\n",
       "</style>\n",
       "<table border=\"1\" class=\"dataframe\">\n",
       "  <thead>\n",
       "    <tr style=\"text-align: right;\">\n",
       "      <th></th>\n",
       "      <th>Taste Source</th>\n",
       "      <th>Frequency</th>\n",
       "    </tr>\n",
       "  </thead>\n",
       "  <tbody>\n",
       "    <tr>\n",
       "      <th>0</th>\n",
       "      <td>tea</td>\n",
       "      <td>1782</td>\n",
       "    </tr>\n",
       "    <tr>\n",
       "      <th>1</th>\n",
       "      <td>cup</td>\n",
       "      <td>112</td>\n",
       "    </tr>\n",
       "    <tr>\n",
       "      <th>2</th>\n",
       "      <td>dish</td>\n",
       "      <td>73</td>\n",
       "    </tr>\n",
       "    <tr>\n",
       "      <th>3</th>\n",
       "      <td>coffee</td>\n",
       "      <td>71</td>\n",
       "    </tr>\n",
       "    <tr>\n",
       "      <th>4</th>\n",
       "      <td>water</td>\n",
       "      <td>51</td>\n",
       "    </tr>\n",
       "    <tr>\n",
       "      <th>5</th>\n",
       "      <td>bread</td>\n",
       "      <td>31</td>\n",
       "    </tr>\n",
       "    <tr>\n",
       "      <th>6</th>\n",
       "      <td>hot</td>\n",
       "      <td>25</td>\n",
       "    </tr>\n",
       "    <tr>\n",
       "      <th>7</th>\n",
       "      <td>green</td>\n",
       "      <td>22</td>\n",
       "    </tr>\n",
       "    <tr>\n",
       "      <th>8</th>\n",
       "      <td>insipid</td>\n",
       "      <td>21</td>\n",
       "    </tr>\n",
       "    <tr>\n",
       "      <th>9</th>\n",
       "      <td>cake</td>\n",
       "      <td>19</td>\n",
       "    </tr>\n",
       "  </tbody>\n",
       "</table>\n",
       "</div>"
      ],
      "text/plain": [
       "  Taste Source  Frequency\n",
       "0          tea       1782\n",
       "1          cup        112\n",
       "2         dish         73\n",
       "3       coffee         71\n",
       "4        water         51\n",
       "5        bread         31\n",
       "6          hot         25\n",
       "7        green         22\n",
       "8      insipid         21\n",
       "9         cake         19"
      ]
     },
     "metadata": {},
     "output_type": "display_data"
    }
   ],
   "source": [
    "run_cooc_taste_sources()"
   ]
  },
  {
   "cell_type": "code",
   "execution_count": 14,
   "metadata": {},
   "outputs": [
    {
     "name": "stdout",
     "output_type": "stream",
     "text": [
      "Taste_Source_cleaned\n",
      "water        3390\n",
      "wine         2754\n",
      "bread        2479\n",
      "thing        2008\n",
      "meat         1915\n",
      "food         1808\n",
      "fruit        1660\n",
      "flesh        1555\n",
      "milk         1222\n",
      "tea           957\n",
      "herb          735\n",
      "cup           729\n",
      "fish          709\n",
      "almond        678\n",
      "apple         637\n",
      "dish          606\n",
      "dinner        589\n",
      "potato        583\n",
      "health        581\n",
      "blood         577\n",
      "liquor        573\n",
      "salt          543\n",
      "supper        520\n",
      "word          506\n",
      "butter        464\n",
      "beer          448\n",
      "meal          446\n",
      "death         443\n",
      "grape         375\n",
      "cream         371\n",
      "coffee        355\n",
      "cake          349\n",
      "breakfast     337\n",
      "morsel        330\n",
      "life          313\n",
      "christ        297\n",
      "spirit        295\n",
      "drink         291\n",
      "good          290\n",
      "ale           287\n",
      "honey         280\n",
      "meate         277\n",
      "lord          275\n",
      "bread|cup     273\n",
      "sauce         272\n",
      "grass         263\n",
      "corn          258\n",
      "root          257\n",
      "god           249\n",
      "pleasure      247\n",
      "Name: count, dtype: int64\n"
     ]
    }
   ],
   "source": [
    "df = pd.read_table('taste_final.tsv')\n",
    "\n",
    "frequency = df['Taste_Source_cleaned'].value_counts()\n",
    "\n",
    "print(frequency.head(50))\n"
   ]
  },
  {
   "cell_type": "code",
   "execution_count": 16,
   "metadata": {},
   "outputs": [
    {
     "name": "stdout",
     "output_type": "stream",
     "text": [
      "most freq qualities for 'tea':\n",
      "delicious: 56\n",
      "sweet: 36\n",
      "bitter: 19\n",
      "flavoured: 12\n",
      "sweetened: 8\n",
      "stale: 6\n",
      "sour: 6\n",
      "tasty: 6\n",
      "unsweetened: 5\n",
      "insipid: 3\n",
      "unpleasant: 3\n",
      "nice: 3\n",
      "soapy: 2\n",
      "not: 2\n",
      "not so good: 2\n",
      "so pleasant a bitter: 2\n",
      "odd: 2\n",
      "acid: 2\n",
      "infipid: 2\n",
      "fweeten: 2\n"
     ]
    }
   ],
   "source": [
    "from collections import Counter\n",
    "\n",
    "df = pd.read_table('taste_final.tsv')\n",
    "\n",
    "source_target = 'tea' #choose the target source you are interested in\n",
    "\n",
    "df_filtrato = df[df['Taste_Source_cleaned'].str.lower() == source_target.lower()]\n",
    "\n",
    "quality_counter = Counter()\n",
    "\n",
    "for entry in df_filtrato['Quality'].dropna():\n",
    "    qualities = [q.strip().lower() for q in entry.split('|') if q.strip()]\n",
    "    quality_counter.update(qualities)\n",
    "\n",
    "print(f\"most freq qualities for '{source_target}':\")\n",
    "for quality, count in quality_counter.most_common(20):\n",
    "    print(f\"{quality}: {count}\")\n"
   ]
  }
 ],
 "metadata": {
  "kernelspec": {
   "display_name": "mytere",
   "language": "python",
   "name": "python3"
  },
  "language_info": {
   "codemirror_mode": {
    "name": "ipython",
    "version": 3
   },
   "file_extension": ".py",
   "mimetype": "text/x-python",
   "name": "python",
   "nbconvert_exporter": "python",
   "pygments_lexer": "ipython3",
   "version": "3.9.21"
  }
 },
 "nbformat": 4,
 "nbformat_minor": 2
}
